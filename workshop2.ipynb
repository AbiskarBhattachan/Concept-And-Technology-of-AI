{
  "nbformat": 4,
  "nbformat_minor": 0,
  "metadata": {
    "colab": {
      "provenance": []
    },
    "kernelspec": {
      "name": "python3",
      "display_name": "Python 3"
    },
    "language_info": {
      "name": "python"
    }
  },
  "cells": [
    {
      "cell_type": "code",
      "execution_count": 1,
      "metadata": {
        "id": "8DmB441-mCVL"
      },
      "outputs": [],
      "source": [
        "import numpy as np"
      ]
    },
    {
      "cell_type": "code",
      "source": [
        "x = np.empty((2,2))\n",
        "x"
      ],
      "metadata": {
        "colab": {
          "base_uri": "https://localhost:8080/"
        },
        "id": "VIt8nrwrmHJu",
        "outputId": "3bddd1e5-8616-4685-bb8c-fd27ee8e8835"
      },
      "execution_count": 2,
      "outputs": [
        {
          "output_type": "execute_result",
          "data": {
            "text/plain": [
              "array([[4.73103752e-310, 0.00000000e+000],\n",
              "       [4.24399159e-313, 5.94158822e-313]])"
            ]
          },
          "metadata": {},
          "execution_count": 2
        }
      ]
    },
    {
      "cell_type": "code",
      "source": [
        "x = np.ones((4,2))\n",
        "x"
      ],
      "metadata": {
        "colab": {
          "base_uri": "https://localhost:8080/"
        },
        "id": "0Xq8enRbmHc3",
        "outputId": "0df8478e-5fdb-40b0-87a5-25a4b1865277"
      },
      "execution_count": 3,
      "outputs": [
        {
          "output_type": "execute_result",
          "data": {
            "text/plain": [
              "array([[1., 1.],\n",
              "       [1., 1.],\n",
              "       [1., 1.],\n",
              "       [1., 1.]])"
            ]
          },
          "metadata": {},
          "execution_count": 3
        }
      ]
    },
    {
      "cell_type": "code",
      "source": [
        "x=np.full((4,3),3)"
      ],
      "metadata": {
        "id": "cZShOt0PmHw5"
      },
      "execution_count": 4,
      "outputs": []
    },
    {
      "cell_type": "code",
      "source": [
        "p=np.arange(6).reshape(2,3)\n",
        "a=np.zeros_like(p)\n",
        "a"
      ],
      "metadata": {
        "colab": {
          "base_uri": "https://localhost:8080/"
        },
        "id": "ArA-6ezZmH-6",
        "outputId": "4efabaad-590d-4f74-88b3-366852e6f388"
      },
      "execution_count": 5,
      "outputs": [
        {
          "output_type": "execute_result",
          "data": {
            "text/plain": [
              "array([[0, 0, 0],\n",
              "       [0, 0, 0]])"
            ]
          },
          "metadata": {},
          "execution_count": 5
        }
      ]
    },
    {
      "cell_type": "code",
      "source": [
        "p=np.arange(8).reshape(2,4)\n",
        "x=np.ones_like(p)\n",
        "x"
      ],
      "metadata": {
        "colab": {
          "base_uri": "https://localhost:8080/"
        },
        "id": "tmpQT5dYmIPW",
        "outputId": "93b13bab-8b3d-4266-93dd-4ecd03f59442"
      },
      "execution_count": 6,
      "outputs": [
        {
          "output_type": "execute_result",
          "data": {
            "text/plain": [
              "array([[1, 1, 1, 1],\n",
              "       [1, 1, 1, 1]])"
            ]
          },
          "metadata": {},
          "execution_count": 6
        }
      ]
    },
    {
      "cell_type": "code",
      "source": [
        "new_list=[1,2,3,4]\n",
        "K=np.array(new_list)\n",
        "K"
      ],
      "metadata": {
        "colab": {
          "base_uri": "https://localhost:8080/"
        },
        "id": "E-vNIAh4mIdZ",
        "outputId": "05524774-131b-4291-fa17-e511c843a6b6"
      },
      "execution_count": 7,
      "outputs": [
        {
          "output_type": "execute_result",
          "data": {
            "text/plain": [
              "array([1, 2, 3, 4])"
            ]
          },
          "metadata": {},
          "execution_count": 7
        }
      ]
    },
    {
      "cell_type": "code",
      "source": [
        "b=np.arange(10,50)\n",
        "b"
      ],
      "metadata": {
        "colab": {
          "base_uri": "https://localhost:8080/"
        },
        "id": "KWELK_4VmZjx",
        "outputId": "c5e11595-3af8-405e-9d45-8f8e0f7cf791"
      },
      "execution_count": 8,
      "outputs": [
        {
          "output_type": "execute_result",
          "data": {
            "text/plain": [
              "array([10, 11, 12, 13, 14, 15, 16, 17, 18, 19, 20, 21, 22, 23, 24, 25, 26,\n",
              "       27, 28, 29, 30, 31, 32, 33, 34, 35, 36, 37, 38, 39, 40, 41, 42, 43,\n",
              "       44, 45, 46, 47, 48, 49])"
            ]
          },
          "metadata": {},
          "execution_count": 8
        }
      ]
    },
    {
      "cell_type": "code",
      "source": [
        "b=np.arange(0,9).reshape(3,3)\n",
        "b"
      ],
      "metadata": {
        "colab": {
          "base_uri": "https://localhost:8080/"
        },
        "id": "2ty7NWmSmbd0",
        "outputId": "2c1c43c1-67df-415e-9ddf-115ebe8eee5a"
      },
      "execution_count": 9,
      "outputs": [
        {
          "output_type": "execute_result",
          "data": {
            "text/plain": [
              "array([[0, 1, 2],\n",
              "       [3, 4, 5],\n",
              "       [6, 7, 8]])"
            ]
          },
          "metadata": {},
          "execution_count": 9
        }
      ]
    },
    {
      "cell_type": "code",
      "source": [
        "b=np.eye(3)\n",
        "b"
      ],
      "metadata": {
        "colab": {
          "base_uri": "https://localhost:8080/"
        },
        "id": "wyJ8xnFimdYQ",
        "outputId": "83f32bcb-ca04-49c0-c74a-9ce668a69947"
      },
      "execution_count": 10,
      "outputs": [
        {
          "output_type": "execute_result",
          "data": {
            "text/plain": [
              "array([[1., 0., 0.],\n",
              "       [0., 1., 0.],\n",
              "       [0., 0., 1.]])"
            ]
          },
          "metadata": {},
          "execution_count": 10
        }
      ]
    },
    {
      "cell_type": "code",
      "source": [
        "x = np.random.random(30)\n",
        "mean = x.mean()\n",
        "\n",
        "print(\"array given: \", x)\n",
        "print(\"Mean  : \", mean)"
      ],
      "metadata": {
        "colab": {
          "base_uri": "https://localhost:8080/"
        },
        "id": "F3r3VZY6mgVC",
        "outputId": "70c6420e-58a8-4ea9-a69b-afc69ada92ef"
      },
      "execution_count": 11,
      "outputs": [
        {
          "output_type": "stream",
          "name": "stdout",
          "text": [
            "array given:  [0.10605643 0.77952018 0.83015914 0.51319239 0.01924771 0.06853112\n",
            " 0.66301462 0.719622   0.82376844 0.76944261 0.56405631 0.12300377\n",
            " 0.78993739 0.81354545 0.32850452 0.43454799 0.13720874 0.24845672\n",
            " 0.56121376 0.62351072 0.08534324 0.96962925 0.21085285 0.69189508\n",
            " 0.35987569 0.69218516 0.78721614 0.50688318 0.73181631 0.17136852]\n",
            "Mean  :  0.5041201809023692\n"
          ]
        }
      ]
    },
    {
      "cell_type": "code",
      "source": [
        "b=np.random.random((10,10))\n",
        "min=b.min()\n",
        "max=b.max()\n",
        "print(\"Array: \", b)\n",
        "print(\"Min:\", min)\n",
        "print(\"Max:\", max)"
      ],
      "metadata": {
        "colab": {
          "base_uri": "https://localhost:8080/"
        },
        "id": "ziAxtoJfmiRv",
        "outputId": "4f7555cc-671e-43a3-ad4f-eaab5d3bfc49"
      },
      "execution_count": 12,
      "outputs": [
        {
          "output_type": "stream",
          "name": "stdout",
          "text": [
            "Array:  [[3.90131126e-01 6.01014745e-02 1.81337946e-01 4.54043206e-04\n",
            "  7.82715036e-01 4.96447856e-01 8.34496826e-02 8.27165385e-01\n",
            "  2.11158789e-01 5.26086034e-01]\n",
            " [9.91746985e-01 2.77048019e-02 7.33157983e-01 1.76035414e-01\n",
            "  8.37854184e-02 9.38400804e-02 1.88338671e-01 7.36697872e-01\n",
            "  7.62987355e-01 8.93139388e-01]\n",
            " [8.94789540e-01 5.96654468e-01 3.21279804e-02 8.29543220e-01\n",
            "  7.90802106e-01 7.39860993e-01 7.08734543e-01 9.48056781e-01\n",
            "  5.03381461e-01 5.16899359e-01]\n",
            " [5.50274799e-01 9.07616916e-02 7.99707566e-01 2.83742213e-01\n",
            "  6.72457770e-01 4.39718248e-01 1.69403977e-02 5.63876657e-01\n",
            "  9.00850026e-01 8.91447480e-01]\n",
            " [3.40085770e-01 7.96572679e-01 9.05332922e-01 8.70598295e-01\n",
            "  4.24870368e-01 7.02305064e-01 8.46657291e-01 5.91073689e-02\n",
            "  1.73926674e-01 1.37496897e-01]\n",
            " [4.08956739e-01 3.99777328e-01 3.15146416e-02 5.75665496e-01\n",
            "  3.91451973e-01 4.47937568e-01 6.33240814e-01 7.64250413e-01\n",
            "  5.80421559e-01 4.66960110e-01]\n",
            " [8.56437354e-01 7.83403915e-01 6.54363616e-01 5.44142012e-01\n",
            "  8.47941168e-01 3.91142132e-01 8.64800799e-01 8.36252670e-01\n",
            "  6.70726267e-02 6.97736264e-01]\n",
            " [2.46308715e-01 9.83916113e-01 3.23813024e-02 2.37371164e-01\n",
            "  5.99729462e-01 8.92329980e-01 3.17270928e-01 8.56466273e-01\n",
            "  1.77603822e-01 7.07079599e-01]\n",
            " [2.15872423e-01 5.59989956e-01 9.58606893e-01 4.09294633e-01\n",
            "  7.39032827e-01 4.82574764e-01 3.52393697e-01 4.56096961e-01\n",
            "  2.73555625e-01 2.72683377e-02]\n",
            " [8.28015790e-01 6.51828073e-01 1.28629235e-01 1.75675690e-01\n",
            "  4.80112273e-01 9.16418729e-01 9.77127966e-01 9.62523483e-02\n",
            "  1.19468210e-01 5.43091431e-01]]\n",
            "Min: 0.00045404320624620187\n",
            "Max: 0.9917469849733946\n"
          ]
        }
      ]
    },
    {
      "cell_type": "code",
      "source": [
        "b=np.zeros(10)\n",
        "b[4]=1\n",
        "print(\"Updated :\", b)"
      ],
      "metadata": {
        "colab": {
          "base_uri": "https://localhost:8080/"
        },
        "id": "OMgLwZBlmlfJ",
        "outputId": "03157f57-5cb9-4e77-bc55-f30fe741335c"
      },
      "execution_count": 13,
      "outputs": [
        {
          "output_type": "stream",
          "name": "stdout",
          "text": [
            "Updated : [0. 0. 0. 0. 1. 0. 0. 0. 0. 0.]\n"
          ]
        }
      ]
    },
    {
      "cell_type": "code",
      "source": [
        "b=np.array([1,2,0,0,4,0])\n",
        "rev=b[::-1]\n",
        "print(\"Original: \", b)\n",
        "print(\"reversed: \", rev)"
      ],
      "metadata": {
        "colab": {
          "base_uri": "https://localhost:8080/"
        },
        "id": "teJ3cnEnmn_J",
        "outputId": "b4f9c34f-3cbd-4b75-b92b-b63db7c7e891"
      },
      "execution_count": 14,
      "outputs": [
        {
          "output_type": "stream",
          "name": "stdout",
          "text": [
            "Original:  [1 2 0 0 4 0]\n",
            "reversed:  [0 4 0 0 2 1]\n"
          ]
        }
      ]
    },
    {
      "cell_type": "code",
      "source": [
        "b=np.zeros((5,5),dtype=int)\n",
        "b[0,:]=1 #top\n",
        "b[-1,:]=1 #bottom\n",
        "b[:,0]=1 #left\n",
        "b[:,-1]=1 #right\n",
        "print(\"1 on border and 0 inside : \",b)"
      ],
      "metadata": {
        "colab": {
          "base_uri": "https://localhost:8080/"
        },
        "id": "7ibRbK47mqMB",
        "outputId": "980267bb-409e-4755-c708-462cd3b72a8f"
      },
      "execution_count": 15,
      "outputs": [
        {
          "output_type": "stream",
          "name": "stdout",
          "text": [
            "1 on border and 0 inside :  [[1 1 1 1 1]\n",
            " [1 0 0 0 1]\n",
            " [1 0 0 0 1]\n",
            " [1 0 0 0 1]\n",
            " [1 1 1 1 1]]\n"
          ]
        }
      ]
    },
    {
      "cell_type": "code",
      "source": [
        "b=np.zeros((8,8))\n",
        "b[1::2,::2]=1\n",
        "b[::2,1::2]=1\n",
        "b"
      ],
      "metadata": {
        "colab": {
          "base_uri": "https://localhost:8080/"
        },
        "id": "y2rJ92-emvJD",
        "outputId": "f5550dfa-2676-4df2-8db4-7f33b6a7292d"
      },
      "execution_count": 16,
      "outputs": [
        {
          "output_type": "execute_result",
          "data": {
            "text/plain": [
              "array([[0., 1., 0., 1., 0., 1., 0., 1.],\n",
              "       [1., 0., 1., 0., 1., 0., 1., 0.],\n",
              "       [0., 1., 0., 1., 0., 1., 0., 1.],\n",
              "       [1., 0., 1., 0., 1., 0., 1., 0.],\n",
              "       [0., 1., 0., 1., 0., 1., 0., 1.],\n",
              "       [1., 0., 1., 0., 1., 0., 1., 0.],\n",
              "       [0., 1., 0., 1., 0., 1., 0., 1.],\n",
              "       [1., 0., 1., 0., 1., 0., 1., 0.]])"
            ]
          },
          "metadata": {},
          "execution_count": 16
        }
      ]
    },
    {
      "cell_type": "code",
      "source": [
        "x=np.array([[1,2],[3,5]])\n",
        "y=np.array([[5,6],[7,8]])\n",
        "x3 = np.array([9,10])\n",
        "y3 = np.array([11,12])\n",
        "print(\"x: \\n\",x)\n",
        "print(\"y: \\n\",y)\n",
        "add=x+y\n",
        "add3=x3+y3\n",
        "print(\"Adding x+y: \\n\",add)\n",
        "print(\"x3: \\n\",x3)\n",
        "print(\"y3: \\n\",y3)\n",
        "print(\"adding x3+y3: \",add3)"
      ],
      "metadata": {
        "colab": {
          "base_uri": "https://localhost:8080/"
        },
        "id": "nnI9XAARmypY",
        "outputId": "68aa0c98-8bd9-4283-a1ed-65f4b212d460"
      },
      "execution_count": 17,
      "outputs": [
        {
          "output_type": "stream",
          "name": "stdout",
          "text": [
            "x: \n",
            " [[1 2]\n",
            " [3 5]]\n",
            "y: \n",
            " [[5 6]\n",
            " [7 8]]\n",
            "Adding x+y: \n",
            " [[ 6  8]\n",
            " [10 13]]\n",
            "x3: \n",
            " [ 9 10]\n",
            "y3: \n",
            " [11 12]\n",
            "adding x3+y3:  [20 22]\n"
          ]
        }
      ]
    },
    {
      "cell_type": "code",
      "source": [
        "sub=x-y\n",
        "sub3=x3-y3\n",
        "print(\"subtracting y from x: \",sub)\n",
        "print(\"subtracting y3 from x3: \",sub3)"
      ],
      "metadata": {
        "colab": {
          "base_uri": "https://localhost:8080/"
        },
        "id": "kY-xKEQQm1P_",
        "outputId": "cd4da9e9-3aa0-4155-b414-44a699970dbc"
      },
      "execution_count": 18,
      "outputs": [
        {
          "output_type": "stream",
          "name": "stdout",
          "text": [
            "subtracting y from x:  [[-4 -4]\n",
            " [-4 -3]]\n",
            "subtracting y3 from x3:  [-2 -2]\n"
          ]
        }
      ]
    },
    {
      "cell_type": "code",
      "source": [
        "mul_x=x*2\n",
        "mul_x\n",
        "mul_y=y*2\n",
        "mul_y\n",
        "mul_x3=x3*2\n",
        "mul_x3\n",
        "mul_y3=y3*2\n",
        "mul_y3"
      ],
      "metadata": {
        "colab": {
          "base_uri": "https://localhost:8080/"
        },
        "id": "2AMUMwUxm3QG",
        "outputId": "2636fc2e-583f-430c-8398-05c7c90704cc"
      },
      "execution_count": 19,
      "outputs": [
        {
          "output_type": "execute_result",
          "data": {
            "text/plain": [
              "array([22, 24])"
            ]
          },
          "metadata": {},
          "execution_count": 19
        }
      ]
    },
    {
      "cell_type": "code",
      "source": [
        "sq_x=np.square(x)\n",
        "print(\"squaring x: \\n\",sq_x )\n",
        "sq_y=np.square(y)\n",
        "print(\"squaring y: \\n\",sq_y )\n",
        "sq_x3=np.square(x3)\n",
        "print(\"squaring x3: \\n\",sq_x3 )\n",
        "sq_y3=np.square(y3)\n",
        "print(\"squaring y3: \\n\",sq_y3 )"
      ],
      "metadata": {
        "colab": {
          "base_uri": "https://localhost:8080/"
        },
        "id": "v50b3zg9m5ig",
        "outputId": "756e2693-e86f-4075-e678-09f001be18d3"
      },
      "execution_count": 20,
      "outputs": [
        {
          "output_type": "stream",
          "name": "stdout",
          "text": [
            "squaring x: \n",
            " [[ 1  4]\n",
            " [ 9 25]]\n",
            "squaring y: \n",
            " [[25 36]\n",
            " [49 64]]\n",
            "squaring x3: \n",
            " [ 81 100]\n",
            "squaring y3: \n",
            " [121 144]\n"
          ]
        }
      ]
    },
    {
      "cell_type": "code",
      "source": [
        "result = np.dot(x3, y3)\n",
        "result\n",
        "result_1 = np.dot(x, x3)\n",
        "result_1\n",
        "result_2 = np.dot(x, y)\n",
        "result_2"
      ],
      "metadata": {
        "colab": {
          "base_uri": "https://localhost:8080/"
        },
        "id": "LrDr6shSm78-",
        "outputId": "ec858a8a-6fbb-4aee-ba92-3293ce6a0e9d"
      },
      "execution_count": 21,
      "outputs": [
        {
          "output_type": "execute_result",
          "data": {
            "text/plain": [
              "array([[19, 22],\n",
              "       [50, 58]])"
            ]
          },
          "metadata": {},
          "execution_count": 21
        }
      ]
    },
    {
      "cell_type": "code",
      "source": [
        "a=np.concatenate((x,y),axis=1)\n",
        "print(a)\n",
        "a=np.vstack((x3,y3))\n",
        "print(a)"
      ],
      "metadata": {
        "colab": {
          "base_uri": "https://localhost:8080/"
        },
        "id": "aH89P7bYm-TU",
        "outputId": "ab4e997c-eb00-4501-86f6-3602f35aaa53"
      },
      "execution_count": 22,
      "outputs": [
        {
          "output_type": "stream",
          "name": "stdout",
          "text": [
            "[[1 2 5 6]\n",
            " [3 5 7 8]]\n",
            "[[ 9 10]\n",
            " [11 12]]\n"
          ]
        }
      ]
    },
    {
      "cell_type": "code",
      "source": [
        "x = np.array([[1, 2, 3], [4, 5, 6]])\n",
        "x3 = np.array([[7, 8, 9], [10, 11, 12]])\n",
        "\n",
        "try:\n",
        "    result = np.concatenate((x, x3))\n",
        "    print(\"Concatenation result:\\n\", result)\n",
        "except ValueError as e:\n",
        "    print(\"Error during concatenation:\", e)"
      ],
      "metadata": {
        "colab": {
          "base_uri": "https://localhost:8080/"
        },
        "id": "Q2PcnDFcnBad",
        "outputId": "69d704cb-92a9-423a-a36c-343f51197e28"
      },
      "execution_count": 23,
      "outputs": [
        {
          "output_type": "stream",
          "name": "stdout",
          "text": [
            "Concatenation result:\n",
            " [[ 1  2  3]\n",
            " [ 4  5  6]\n",
            " [ 7  8  9]\n",
            " [10 11 12]]\n"
          ]
        }
      ]
    },
    {
      "cell_type": "code",
      "source": [
        "A1=np.array([[3,4],[7,8]])\n",
        "B1=np.array([[5,3],[2,1]])\n",
        "A_inverse=np.linalg.inv(A1)\n",
        "result=np.dot(A1,A_inverse)\n",
        "identity_matrix=np.eye(2)\n",
        "print(\"Matrix A1:\\n\", A1)\n",
        "print(\"Inverse of A1 (A^-1):\\n\", A_inverse)\n",
        "print(\"Product of A1 and A^-1 (A.A^-1):\\n\", result)\n",
        "print(\"Identity Matrix:\\n\", identity_matrix)\n",
        "y=np.allclose(result,identity_matrix)\n",
        "print(\"Is A.A^-1 equal to identity matrix?->\",y)"
      ],
      "metadata": {
        "colab": {
          "base_uri": "https://localhost:8080/"
        },
        "id": "FBqv1snynifp",
        "outputId": "b2171b8f-d838-4769-dc5f-3b3e550c2507"
      },
      "execution_count": 24,
      "outputs": [
        {
          "output_type": "stream",
          "name": "stdout",
          "text": [
            "Matrix A1:\n",
            " [[3 4]\n",
            " [7 8]]\n",
            "Inverse of A1 (A^-1):\n",
            " [[-2.    1.  ]\n",
            " [ 1.75 -0.75]]\n",
            "Product of A1 and A^-1 (A.A^-1):\n",
            " [[1.00000000e+00 0.00000000e+00]\n",
            " [1.77635684e-15 1.00000000e+00]]\n",
            "Identity Matrix:\n",
            " [[1. 0.]\n",
            " [0. 1.]]\n",
            "Is A.A^-1 equal to identity matrix?-> True\n"
          ]
        }
      ]
    },
    {
      "cell_type": "code",
      "source": [
        "A1B1 = np.dot(A1, B1)\n",
        "B1A1 = np.dot(B1, A1)\n",
        "print(\"A1B1 (A1 * B1):\\n\", A1B1)\n",
        "print(\"B1A1 (B1 * A1):\\n\", B1A1)\n",
        "are_equal=np.array_equal(A1B1,B1A1)\n",
        "print(\" Is A1B1 = B1A1? \",are_equal)"
      ],
      "metadata": {
        "colab": {
          "base_uri": "https://localhost:8080/"
        },
        "id": "AzBzzD4vnkn3",
        "outputId": "05a898e5-4892-4e9a-eac8-ed9e930300eb"
      },
      "execution_count": 25,
      "outputs": [
        {
          "output_type": "stream",
          "name": "stdout",
          "text": [
            "A1B1 (A1 * B1):\n",
            " [[23 13]\n",
            " [51 29]]\n",
            "B1A1 (B1 * A1):\n",
            " [[36 44]\n",
            " [13 16]]\n",
            " Is A1B1 = B1A1?  False\n"
          ]
        }
      ]
    },
    {
      "cell_type": "code",
      "source": [
        "A1 = np.array([[1, 2], [3, 4]])\n",
        "B1 = np.array([[5, 6], [7, 8]])\n",
        "AB=np.dot(A1,B1)\n",
        "AB_T=AB.T\n",
        "B_T=B1.T\n",
        "A_T=A1.T\n",
        "BT_AT=np.dot(B_T,A_T)\n",
        "print(\"AB:\\n\", AB)\n",
        "print(\"(AB)^T:\\n\", AB_T)\n",
        "print(\"B^T:\\n\", B_T)\n",
        "print(\"A^T:\\n\", A_T)\n",
        "print(\"B^T * A^T:\\n\", BT_AT)\n",
        "is_equal=np.array_equal(AB_T,BT_AT)\n",
        "print(\"Is (AB)^T equal to B^T * A^T? \", is_equal)"
      ],
      "metadata": {
        "colab": {
          "base_uri": "https://localhost:8080/"
        },
        "id": "B-QpJ1RqnmGP",
        "outputId": "b8f5204d-da2b-41df-9872-d21b1e5efeaa"
      },
      "execution_count": 26,
      "outputs": [
        {
          "output_type": "stream",
          "name": "stdout",
          "text": [
            "AB:\n",
            " [[19 22]\n",
            " [43 50]]\n",
            "(AB)^T:\n",
            " [[19 43]\n",
            " [22 50]]\n",
            "B^T:\n",
            " [[5 7]\n",
            " [6 8]]\n",
            "A^T:\n",
            " [[1 3]\n",
            " [2 4]]\n",
            "B^T * A^T:\n",
            " [[19 43]\n",
            " [22 50]]\n",
            "Is (AB)^T equal to B^T * A^T?  True\n"
          ]
        }
      ]
    },
    {
      "cell_type": "code",
      "source": [
        "A1=np.array([[2,-3,1], [1,-1,2], [3,1,-1]])\n",
        "B1=np.array([-1,-3,9])\n",
        "A_inverse=np.linalg.inv(A1)\n",
        "x=np.dot(A_inverse,B1)\n",
        "print( A1)\n",
        "print( B1)\n",
        "print( A_inverse)\n",
        "print( x)"
      ],
      "metadata": {
        "colab": {
          "base_uri": "https://localhost:8080/"
        },
        "id": "PqnFWfBdnqWB",
        "outputId": "29272b37-d0b0-4438-bbec-43123a9a97ee"
      },
      "execution_count": 27,
      "outputs": [
        {
          "output_type": "stream",
          "name": "stdout",
          "text": [
            "[[ 2 -3  1]\n",
            " [ 1 -1  2]\n",
            " [ 3  1 -1]]\n",
            "[-1 -3  9]\n",
            "[[ 0.05263158  0.10526316  0.26315789]\n",
            " [-0.36842105  0.26315789  0.15789474]\n",
            " [-0.21052632  0.57894737 -0.05263158]]\n",
            "[ 2.  1. -2.]\n"
          ]
        }
      ]
    },
    {
      "cell_type": "code",
      "source": [
        "import time\n",
        "l3=list(range(1,1000001))\n",
        "l4=list(range(1,1000001))\n",
        "start_time= time.time()\n",
        "result_list=[a+b for a, b in zip(l3,l4)]\n",
        "python_time=time.time()-start_time\n",
        "print(\" Python lists time:\", python_time, \"seconds\")\n",
        "#numpy arrays:\n",
        "a3=np.arange(1,1000001)\n",
        "a4=np.arange(1,1000001)\n",
        "\n",
        "start_time=time.time()\n",
        "result_array=a3+a4\n",
        "numpy_time=time.time()-start_time\n",
        "print(\" NumPy arrays time:\", numpy_time, \"seconds\")"
      ],
      "metadata": {
        "colab": {
          "base_uri": "https://localhost:8080/"
        },
        "id": "hLEG7BkBnsgn",
        "outputId": "160eb95a-8a8d-42e6-8d9f-c0d9fd40dbea"
      },
      "execution_count": 28,
      "outputs": [
        {
          "output_type": "stream",
          "name": "stdout",
          "text": [
            " Python lists time: 0.16620445251464844 seconds\n",
            " NumPy arrays time: 0.005593776702880859 seconds\n"
          ]
        }
      ]
    },
    {
      "cell_type": "code",
      "source": [
        "start_time=time.time()\n",
        "result_list=[a*b for a,b in zip(l3,l4)]\n",
        "python_time=time.time()-start_time\n",
        "print(\"multiplication using Python lists time:\", python_time, \"seconds\")\n",
        "\n",
        "start_time = time.time()\n",
        "result_array = a3 * a4\n",
        "numpy_time = time.time() - start_time\n",
        "print(\" multiplication using NumPy arrays:\", numpy_time, \"seconds\")"
      ],
      "metadata": {
        "colab": {
          "base_uri": "https://localhost:8080/"
        },
        "id": "JDupcTppnuC0",
        "outputId": "0762aefb-3520-4986-816d-735b35ee43a3"
      },
      "execution_count": 29,
      "outputs": [
        {
          "output_type": "stream",
          "name": "stdout",
          "text": [
            "multiplication using Python lists time: 0.10312128067016602 seconds\n",
            " multiplication using NumPy arrays: 0.005259275436401367 seconds\n"
          ]
        }
      ]
    },
    {
      "cell_type": "code",
      "source": [
        "start_time = time.time()\n",
        "dot_product_list = sum(a * b for a, b in zip(l3, l4))\n",
        "python_time = time.time() - start_time\n",
        "print( python_time, \"seconds\")\n",
        "\n",
        "\n",
        "\n",
        "start_time = time.time()\n",
        "dot_product_numpy = np.dot(a3, a4)\n",
        "numpy_time = time.time() - start_time\n",
        "print( numpy_time, \"seconds\")"
      ],
      "metadata": {
        "colab": {
          "base_uri": "https://localhost:8080/"
        },
        "id": "rOgX0icmnyO-",
        "outputId": "5e71dd82-167c-44ed-87f6-76f06c64e11b"
      },
      "execution_count": 30,
      "outputs": [
        {
          "output_type": "stream",
          "name": "stdout",
          "text": [
            "0.21556711196899414 seconds\n",
            "0.002372264862060547 seconds\n"
          ]
        }
      ]
    },
    {
      "cell_type": "code",
      "source": [
        "import time\n",
        "import numpy as np\n",
        "\n",
        "# Python lists\n",
        "m3 = [[i for i in range(100)] for j in range(100)]\n",
        "m4 = [[i for i in range(100)] for j in range(100)]\n",
        "\n",
        "start_time = time.time()\n",
        "result_matrix = [[sum(m3[i][k] * m4[k][j] for k in range(100)) for j in range(100)] for i in range(100)]\n",
        "python_time = time.time() - start_time\n",
        "print(\" Python lists time:\", python_time, \"seconds\")\n",
        "\n",
        "# Matrix multiplication using NumPy\n",
        "m3_np = np.random.rand(100, 100)\n",
        "m4_np = np.random.rand(100, 100)\n",
        "\n",
        "start_time = time.time()\n",
        "result_matrix_np = np.dot(m3_np, m4_np)\n",
        "numpy_time = time.time() - start_time\n",
        "print(\"MNumPy arrays time:\", numpy_time, \"seconds\")"
      ],
      "metadata": {
        "colab": {
          "base_uri": "https://localhost:8080/"
        },
        "id": "NpQeVAOyn2Km",
        "outputId": "0484c9a3-f55a-4404-d3f9-8f67ff94c30f"
      },
      "execution_count": 31,
      "outputs": [
        {
          "output_type": "stream",
          "name": "stdout",
          "text": [
            " Python lists time: 0.168212890625 seconds\n",
            "MNumPy arrays time: 0.000385284423828125 seconds\n"
          ]
        }
      ]
    }
  ]
}